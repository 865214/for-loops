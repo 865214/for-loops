{
 "cells": [
  {
   "cell_type": "markdown",
   "id": "f80730cc-1d6f-447f-a83b-9690b00753f1",
   "metadata": {},
   "source": [
    "# For Loop"
   ]
  },
  {
   "cell_type": "markdown",
   "id": "34b28b31-08dd-4fde-977e-5ca93b01c2ce",
   "metadata": {},
   "source": [
    "1. Write a Python program to print the numbers from 1 to 10 using a `for` loop."
   ]
  },
  {
   "cell_type": "code",
   "execution_count": 1,
   "id": "03c3bfde-a861-44ba-9a93-804ceb596dcc",
   "metadata": {},
   "outputs": [
    {
     "name": "stdout",
     "output_type": "stream",
     "text": [
      "1\n",
      "2\n",
      "3\n",
      "4\n",
      "5\n",
      "6\n",
      "7\n",
      "8\n",
      "9\n",
      "10\n"
     ]
    }
   ],
   "source": [
    "for i in range(1,11):\n",
    "    print(i)"
   ]
  },
  {
   "cell_type": "markdown",
   "id": "fece6a17-7019-4971-9ef6-a6ec3de3c97c",
   "metadata": {},
   "source": [
    "1. Using for loop in the range of 1 to 11 . The range function gives range of numbers we have to mentioned the starting point and the end point.\n",
    "2. It will iterate through all the numbers within range of 1 to 11\n",
    "3. Then by using the print statement it will print all numbers within the range of 1 to 10"
   ]
  },
  {
   "cell_type": "markdown",
   "id": "e79a57cd-632d-4d7a-acd2-868b94bc737a",
   "metadata": {},
   "source": [
    "2. Create a program that calculates the sum of all numbers in a list using a `for` loop."
   ]
  },
  {
   "cell_type": "code",
   "execution_count": 2,
   "id": "025773f7-da41-4ed8-868f-6229d1627a4d",
   "metadata": {},
   "outputs": [],
   "source": [
    "a = [1, 2, 3, 4, 5, 6, 7, 8, 9, 10]"
   ]
  },
  {
   "cell_type": "code",
   "execution_count": 3,
   "id": "d8b62484-6144-4811-b429-00ec8719c5ba",
   "metadata": {},
   "outputs": [
    {
     "name": "stdout",
     "output_type": "stream",
     "text": [
      "55\n"
     ]
    }
   ],
   "source": [
    "total = 0\n",
    "for i in a:\n",
    "    total+=i\n",
    "print(total)"
   ]
  },
  {
   "cell_type": "markdown",
   "id": "5043582a-b2c4-46a1-ba1b-490ebb6598e6",
   "metadata": {},
   "source": [
    "1. Create a list of number inside the variable a\n",
    "2. Create another variable total which is having a value 0\n",
    "3. By using for loop in variable a it will iterate through all the numbers inside the list of variable a\n",
    "4. Then that number will be add on to the total for e.g The number is 1 then it will added to total variable which is having a value of then 0+1= 1 and then next number comes which is 2 and right now current value of variable total is 1 then 2 + 1 = 3 and so on\n",
    "5. Print the result "
   ]
  },
  {
   "cell_type": "markdown",
   "id": "0c75e3a7-8d79-4209-ae66-4da5bfcbf82b",
   "metadata": {},
   "source": [
    "3. Write a program to print the characters of a string in reverse order using a `for` loop."
   ]
  },
  {
   "cell_type": "code",
   "execution_count": 45,
   "id": "70c3f577-5c5f-4a9e-af22-2125f6426ae9",
   "metadata": {},
   "outputs": [],
   "source": [
    "a = 'python'"
   ]
  },
  {
   "cell_type": "code",
   "execution_count": 59,
   "id": "a54c2a4d-83f8-4a29-88f4-78d2b5c34e52",
   "metadata": {},
   "outputs": [
    {
     "name": "stdout",
     "output_type": "stream",
     "text": [
      "nohtyp\n"
     ]
    }
   ],
   "source": [
    "reverse_string = ''\n",
    "for i in range(1,len(a)+1):\n",
    "    reverse_string += a[-i]\n",
    "print(reverse_string)"
   ]
  },
  {
   "cell_type": "markdown",
   "id": "2316b1ca-bd92-47aa-b44b-c9be42c89e22",
   "metadata": {},
   "source": [
    "1. Create a variable a inside the variable a we define string python\n",
    "2. Create another variable reverse string which is having empty string\n",
    "3. By using for loop in range function we define number from 1 to len(a) +1. The len() function will return a count of characters present inside the variable a. In range function whatever end point we mention it will give 1 less than that number we have mention.\n",
    "4. By using reverse slicing in string we are characters at that index in reverse order and store that characters into the reverse string \n",
    "5. Print the result"
   ]
  },
  {
   "cell_type": "markdown",
   "id": "5df1b0bc-a044-4bfa-bef7-6e62856fd99f",
   "metadata": {},
   "source": [
    "4. Develop a program that finds the factorial of a given number using a `for` loop."
   ]
  },
  {
   "cell_type": "code",
   "execution_count": 80,
   "id": "89f850f6-ce52-4678-8820-cfc625d83b7a",
   "metadata": {},
   "outputs": [
    {
     "name": "stdin",
     "output_type": "stream",
     "text": [
      "Enter the number:  8\n"
     ]
    }
   ],
   "source": [
    "a = int(input('Enter the number: '))"
   ]
  },
  {
   "cell_type": "code",
   "execution_count": 81,
   "id": "b141441a-5281-48d8-bc99-2988f7b947e3",
   "metadata": {},
   "outputs": [
    {
     "name": "stdout",
     "output_type": "stream",
     "text": [
      "[1, 2, 4, 8]\n"
     ]
    }
   ],
   "source": [
    "factorial_number = []\n",
    "for i in range(1, 100):\n",
    "    if a % i == 0:\n",
    "        factorial_number.append(i)\n",
    "print(factorial_number)\n",
    "        "
   ]
  },
  {
   "cell_type": "markdown",
   "id": "aff7772a-1b6d-431b-8f32-d82fb5ecc784",
   "metadata": {},
   "source": [
    "1. Create a variable a which takes the input from the user as an integer\n",
    "2. Create a empty list inside the variable called factorial_number\n",
    "3. By using for loop in the range beween 1 to 100 it will iterate through all the numbers within the range  of 1 to 100\n",
    "4. If the user number which we take input from the user is cleanly divisible by the range of number within 1 to 100 then those numbers will be appended into the list of factorial_number\n",
    "5. Print the result "
   ]
  },
  {
   "cell_type": "markdown",
   "id": "5df3f5e9-2460-47f6-8c9c-10b3b4d0ddcc",
   "metadata": {},
   "source": [
    "5. Create a program to print the multiplication table of a given number using a `for` loop."
   ]
  },
  {
   "cell_type": "code",
   "execution_count": 82,
   "id": "d4c85397-af4c-4dce-8453-621f81e23055",
   "metadata": {},
   "outputs": [
    {
     "name": "stdin",
     "output_type": "stream",
     "text": [
      "Enter the number:  5\n"
     ]
    }
   ],
   "source": [
    "a = int(input('Enter the number: '))"
   ]
  },
  {
   "cell_type": "code",
   "execution_count": 83,
   "id": "fc37b4cc-759f-4714-84b8-467873f7fe9c",
   "metadata": {},
   "outputs": [
    {
     "name": "stdout",
     "output_type": "stream",
     "text": [
      "5 * 1 = 5\n",
      "5 * 2 = 10\n",
      "5 * 3 = 15\n",
      "5 * 4 = 20\n",
      "5 * 5 = 25\n",
      "5 * 6 = 30\n",
      "5 * 7 = 35\n",
      "5 * 8 = 40\n",
      "5 * 9 = 45\n",
      "5 * 10 = 50\n"
     ]
    }
   ],
   "source": [
    "for i in range(1, 11):\n",
    "    print(f\"{a} * {i} = {a * i}\")"
   ]
  },
  {
   "cell_type": "markdown",
   "id": "9bbf1485-0365-4684-9900-08fe0635f08f",
   "metadata": {},
   "source": [
    "1. Create a variable a which takes input from the user\n",
    "2. By using the for loop in the range of 1 to 11 which iterates through all the numbers 1 to 10.\n",
    "3. By using f string we print the table of a number which is enter by user."
   ]
  },
  {
   "cell_type": "markdown",
   "id": "8438e075-6e44-4711-a91c-5a151c42eb4f",
   "metadata": {},
   "source": [
    "6. Write a program that counts the number of even and odd numbers in a list using a `for` loop."
   ]
  },
  {
   "cell_type": "code",
   "execution_count": 88,
   "id": "3c6ec51e-195b-4a7c-90d3-249c4447c7d6",
   "metadata": {},
   "outputs": [],
   "source": [
    "a = [1, 2, 3, 4, 5, 6, 7, 8, 9, 10, 11, 12, 13, 14, 15]"
   ]
  },
  {
   "cell_type": "code",
   "execution_count": 90,
   "id": "a645f5b4-5231-40af-b837-e50dd7897217",
   "metadata": {},
   "outputs": [
    {
     "name": "stdout",
     "output_type": "stream",
     "text": [
      "Count of Even number in a list 7\n",
      "Count of Odd number in a list is 8\n"
     ]
    }
   ],
   "source": [
    "count_even = 0\n",
    "count_odd = 0\n",
    "for i in a:\n",
    "    if i%2 == 0:\n",
    "        count_even += a.count(i)\n",
    "    else:\n",
    "        count_odd += a.count(i)\n",
    "print(f'Count of Even number in a list {count_even}')\n",
    "print(f'Count of Odd number in a list is {count_odd}')"
   ]
  },
  {
   "cell_type": "markdown",
   "id": "ab937d69-01c2-44f9-b8f6-0b6900a01723",
   "metadata": {},
   "source": [
    "1. Create a list of numbers in the variable a \n",
    "2. Create another two variable which is count_even and count odd which is having a value of 0\n",
    "3. By using for loop in the list of variable a it will iterate through all the numbers inside the variable a\n",
    "4. If any number cleanly divisible by 2 then that number will be count by using count method in python it will added to the count_even varible.\n",
    "5. If any number is not cleanly divisible by 2 then that number will count by using the count method in python it will added to the count_odd variable\n",
    "6. Print the result "
   ]
  },
  {
   "cell_type": "markdown",
   "id": "f655ff57-7bc3-4b6e-8688-2960dcede1fb",
   "metadata": {},
   "source": [
    "7. Develop a program that prints the squares of numbers from 1 to 5 using a `for` loop."
   ]
  },
  {
   "cell_type": "code",
   "execution_count": 91,
   "id": "b68fa88f-47d3-4a59-b015-b516924bc115",
   "metadata": {},
   "outputs": [
    {
     "name": "stdout",
     "output_type": "stream",
     "text": [
      " Square of 1 is 1\n",
      " Square of 2 is 4\n",
      " Square of 3 is 9\n",
      " Square of 4 is 16\n",
      " Square of 5 is 25\n"
     ]
    }
   ],
   "source": [
    "for i in range(1, 6):\n",
    "    print(f' Square of {i} is {i ** 2}')\n",
    "    "
   ]
  },
  {
   "cell_type": "markdown",
   "id": "d04e3f2b-a905-4a8a-92ac-05e5d48213e2",
   "metadata": {},
   "source": [
    "1. By using for loop in the range of 1 to 6\n",
    "2. It will iterate through all the numbers between range of 1 to 5\n",
    "3. Then print the result by using f string and apply power formulae for squaring each number."
   ]
  },
  {
   "cell_type": "markdown",
   "id": "8c61cf1f-6664-4673-b600-15d1de293e45",
   "metadata": {},
   "source": [
    "8. Create a program to find the length of a string without using the `len()` function."
   ]
  },
  {
   "cell_type": "code",
   "execution_count": 92,
   "id": "03be0ccd-2d5e-402e-8a54-6acb0c7f6424",
   "metadata": {},
   "outputs": [],
   "source": [
    "a = 'Python'"
   ]
  },
  {
   "cell_type": "code",
   "execution_count": 93,
   "id": "4ff52ceb-f39a-40bf-a66b-3f9df1c47373",
   "metadata": {},
   "outputs": [
    {
     "name": "stdout",
     "output_type": "stream",
     "text": [
      "The length of string is 6\n"
     ]
    }
   ],
   "source": [
    "len_string = 0\n",
    "for i in a:\n",
    "    len_string += 1\n",
    "print(f'The length of string is {len_string}')"
   ]
  },
  {
   "cell_type": "markdown",
   "id": "35059198-ac91-4694-a018-f9c561a9971b",
   "metadata": {},
   "source": [
    "1. Create a variable a inside the variable we define one string\n",
    "2. Create another variable len_string which is having a value 0\n",
    "3. By using for loop in variable a it will iterate through each character inside the variable a.\n",
    "4. After each iteration of character in variable a it will add +1 to the variable len_string \n",
    "5. Print the result "
   ]
  },
  {
   "cell_type": "markdown",
   "id": "36bae1ea-2712-4920-9020-ec8580fc2949",
   "metadata": {},
   "source": [
    "9. Write a program that calculates the average of a list of numbers using a `for` loop."
   ]
  },
  {
   "cell_type": "code",
   "execution_count": 94,
   "id": "113628b4-ea76-4793-8f09-33ce1a32581d",
   "metadata": {},
   "outputs": [],
   "source": [
    "a = [10, 20, 30, 40, 50, 60]"
   ]
  },
  {
   "cell_type": "code",
   "execution_count": 99,
   "id": "5358d1f3-c73d-4c2b-bd6e-6ea44ff2f76c",
   "metadata": {},
   "outputs": [
    {
     "name": "stdout",
     "output_type": "stream",
     "text": [
      "The average of a list is 35\n"
     ]
    }
   ],
   "source": [
    "average_number = 0\n",
    "total_number = 0\n",
    "for i in a:\n",
    "    total_number += i\n",
    "    average_number = total_number//len(a)\n",
    "print(f'The average of a list is {average_number}')"
   ]
  },
  {
   "cell_type": "markdown",
   "id": "7dd18b3e-356a-4662-81e7-66b22670f2dd",
   "metadata": {},
   "source": [
    "1. Create a list of number inside the variable a \n",
    "2. By using for loop in list of vraible a it will iterate through all the numbers inside the variable a \n",
    "3. To calcilate average of a list first we have to calculate sum of the list and store inside the variable total number\n",
    "4. Then we apply the formulae for average total_number divide len(a) which is an count of each element which are currently present inside the list\n",
    "5. Print the result "
   ]
  },
  {
   "cell_type": "markdown",
   "id": "673e864e-e63c-44ea-9540-7925444014a2",
   "metadata": {},
   "source": [
    "10. Develop a program that prints the first `n` Fibonacci numbers using a `for` loop."
   ]
  },
  {
   "cell_type": "code",
   "execution_count": 101,
   "id": "7959f48f-a4e9-4957-b883-6e8c6956ed34",
   "metadata": {},
   "outputs": [],
   "source": [
    "n = 6"
   ]
  },
  {
   "cell_type": "code",
   "execution_count": 103,
   "id": "72100e0d-cf8f-418d-a8fe-24ae695f0621",
   "metadata": {},
   "outputs": [
    {
     "name": "stdout",
     "output_type": "stream",
     "text": [
      "[0, 1, 1, 2, 3]\n"
     ]
    }
   ],
   "source": [
    "a,b = 0, 1\n",
    "fibonacci_number = []\n",
    "for i in range(1, n):\n",
    "    fibonacci_number.append(a)\n",
    "    a,b = b, a+b\n",
    "print(fibonacci_number)\n",
    "    "
   ]
  },
  {
   "cell_type": "markdown",
   "id": "41be83d9-902a-407a-9aa5-441a70df05a9",
   "metadata": {},
   "source": [
    "1. Create a variabe n which are taking the value from the user in integer\n",
    "2. Initialising first two numbers of fibonacci number inside the variable a and b\n",
    "3. Create a empty list inside the variable called fibonacci number \n",
    "4. By using for loop in range between 1 to variable n which is enter by the user in integer\n",
    "5. It will append the element inside the variable a \n",
    "6. By using swaping the current value a will be having value of b but the value b should be added after each iteration in for loop \n",
    "7. Print the result "
   ]
  },
  {
   "cell_type": "markdown",
   "id": "a39c159e-83e5-48f4-ad74-2d4d3c2d3ef7",
   "metadata": {},
   "source": [
    "11. Write a program to check if a given list contains any duplicates using a `for` loop."
   ]
  },
  {
   "cell_type": "code",
   "execution_count": 21,
   "id": "1ac4f45a-19c2-4e29-8e91-7793db371013",
   "metadata": {},
   "outputs": [],
   "source": [
    "a = [1, 2, 3, 4, 3, 6, 7, 8, 3]"
   ]
  },
  {
   "cell_type": "code",
   "execution_count": 23,
   "id": "465f067c-af20-4acf-942f-cbc8557aafa8",
   "metadata": {},
   "outputs": [
    {
     "name": "stdout",
     "output_type": "stream",
     "text": [
      "If list contains any duplicates? : True\n"
     ]
    }
   ],
   "source": [
    "def list_duplicates(num):\n",
    "    for i in num:\n",
    "        if num.count(i) > 1:\n",
    "            return True\n",
    "    else:\n",
    "        return False\n",
    "print(f'If list contains any duplicates? : {list_duplicates(a)}')"
   ]
  },
  {
   "cell_type": "markdown",
   "id": "2f357483-4dac-4b98-ae80-13491ac2cb15",
   "metadata": {},
   "source": [
    "1. Create a list of numbers inside the variable a \n",
    "2. Create a function list_duplicates it will take one argument inside the function\n",
    "3. By using for loop inside the list it will iterate through all the numbers and store inside the variable i and check if any element in the list having count is more than if its true then Print true\n",
    "4. Print the result"
   ]
  },
  {
   "cell_type": "markdown",
   "id": "d5a5d93d-9b21-498f-bfa1-27d7339d44dc",
   "metadata": {},
   "source": [
    "12. Create a program that prints the prime numbers in a given range using a `for` loop."
   ]
  },
  {
   "cell_type": "code",
   "execution_count": 41,
   "id": "6dae6b4b-cb77-4427-8077-63270660f298",
   "metadata": {},
   "outputs": [],
   "source": [
    "def  is_prime(num):\n",
    "    if num < 1:\n",
    "        return False \n",
    "    for i in range(2, int(num ** 0.5) +1):\n",
    "        if num % i == 0:\n",
    "            return False \n",
    "    return True\n",
    "    \n",
    "    "
   ]
  },
  {
   "cell_type": "code",
   "execution_count": 42,
   "id": "177b2f6c-423d-4945-934f-72b145df396e",
   "metadata": {},
   "outputs": [
    {
     "name": "stdout",
     "output_type": "stream",
     "text": [
      "[1, 2, 3, 5, 7, 11, 13, 17, 19, 23, 29, 31, 37, 41, 43, 47]\n"
     ]
    }
   ],
   "source": [
    "prime_number = []\n",
    "for i in range(1, 50):\n",
    "    if is_prime(i):\n",
    "        prime_number.append(i)\n",
    "print(prime_number)"
   ]
  },
  {
   "cell_type": "markdown",
   "id": "6f131305-30b3-4aae-8bc1-6838d4e58131",
   "metadata": {},
   "source": [
    "1. We create one function called is_prime inside that function it takes one arguments in integer\n",
    "2. Inside these function we are checking any number is not less than 1 and that number is not divisible by any number that number is called the prime number\n",
    "3. By using for loop in range of 1 to 50 it will iterate through all the numbers within the range of 1 to 50\n",
    "4. By using condition statement check by using is_prime function we have created if any number is prime number then it will append into the list variable called prime_number\n",
    "5. Print the result "
   ]
  },
  {
   "cell_type": "markdown",
   "id": "07f31288-b2de-4dbf-8e7f-77ceec66c4aa",
   "metadata": {},
   "source": [
    "13. Develop a program that counts the number of vowels in a string using a `for` loop."
   ]
  },
  {
   "cell_type": "code",
   "execution_count": 46,
   "id": "9392d4c1-684f-4d39-a9c7-f62a6563ef18",
   "metadata": {},
   "outputs": [
    {
     "name": "stdin",
     "output_type": "stream",
     "text": [
      "Enter any Sentence:  I am learning python\n"
     ]
    }
   ],
   "source": [
    "a = input('Enter any Sentence: ').lower()"
   ]
  },
  {
   "cell_type": "code",
   "execution_count": 47,
   "id": "9cc8b17f-f801-41a5-aa2c-7c206190c33e",
   "metadata": {},
   "outputs": [
    {
     "name": "stdout",
     "output_type": "stream",
     "text": [
      "The count of vowels is 4\n"
     ]
    }
   ],
   "source": [
    "vowels = 'aeiou'\n",
    "count_vowels = 0\n",
    "for i in vowels:\n",
    "    if i in a:\n",
    "        count_vowels += 1\n",
    "print(f'The count of vowels is {count_vowels}')"
   ]
  },
  {
   "cell_type": "markdown",
   "id": "21706d3e-7525-47fb-96fd-433f03aabe46",
   "metadata": {},
   "source": [
    "1. Create a variable a which takes input from the user\n",
    "2. Create another variable called vowels inside that we create a string of vowels \n",
    "3. Create a another variable count_vowels to count the number of vowels inside the string\n",
    "4. By using for loop in vowels variable it will iterate through all the characters inside the varaiable vowels \n",
    "5. If that vowels is present in variable which have taken from the user then it will +1 to the count_vowel\n",
    "6. Print the result "
   ]
  },
  {
   "cell_type": "markdown",
   "id": "5cf6133d-8538-4d79-b16d-c73cf61fd84d",
   "metadata": {},
   "source": [
    "14. Write a program to find the maximum element in a 2D list using a nested `for` loop."
   ]
  },
  {
   "cell_type": "code",
   "execution_count": 14,
   "id": "d98b8c3f-3864-45f2-b655-cb1566eced30",
   "metadata": {},
   "outputs": [],
   "source": [
    "a = [10 , 20, 30]\n",
    "b = [100, 80, 90]\n",
    "c = [70, 85, 95]"
   ]
  },
  {
   "cell_type": "code",
   "execution_count": 17,
   "id": "774db9e2-5606-4a27-a7a1-ff45bb7cf9d7",
   "metadata": {},
   "outputs": [
    {
     "name": "stdout",
     "output_type": "stream",
     "text": [
      "100\n"
     ]
    }
   ],
   "source": [
    "list_2d = [a, b, c] # creating 2d list\n",
    "maximum_element = 0\n",
    "for i in list_2d:\n",
    "    for j in i:\n",
    "        if j > maximum_element:\n",
    "            maximum_element = j\n",
    "print(maximum_element)"
   ]
  },
  {
   "cell_type": "markdown",
   "id": "64a0da80-df9a-4cc1-bb21-259e9551913d",
   "metadata": {},
   "source": [
    "1. Create a 3 list inside the variable a, b and c\n",
    "2. Create a varaible called list_2d we are storing all list into the one list \n",
    "3. By usimg for loop in list_2d in first for loop we get the list and after applying another for loop it iterate through all the element present in the different list.\n",
    "4. For finding maximum element we have created variable called maximu_element inside the second for loop we are applying conditional statement that if any number is greater than the maximum_element that number store into the maximum_element\n",
    "5. print the result"
   ]
  },
  {
   "cell_type": "markdown",
   "id": "2d55fd8b-3801-49c9-b0dd-587691353f67",
   "metadata": {},
   "source": [
    "15. Create a program that removes all occurrences of a specific element from a list using a `for` loop."
   ]
  },
  {
   "cell_type": "code",
   "execution_count": 6,
   "id": "b56322c7-7049-4c30-838a-e788a93db185",
   "metadata": {},
   "outputs": [],
   "source": [
    "a = [1, 2, 3, 4, 3, 6, 7, 8]"
   ]
  },
  {
   "cell_type": "code",
   "execution_count": 7,
   "id": "6aba73a8-2c00-4145-b973-b033b73059fe",
   "metadata": {},
   "outputs": [
    {
     "name": "stdout",
     "output_type": "stream",
     "text": [
      "[1, 2, 4, 6, 7, 8]\n"
     ]
    }
   ],
   "source": [
    "for i in a:\n",
    "    if a.count(i) > 1:\n",
    "        a.remove(i)\n",
    "        a.remove(i)\n",
    "print(a)"
   ]
  },
  {
   "cell_type": "markdown",
   "id": "5a97a729-86d8-4f90-a025-426285cb56e3",
   "metadata": {},
   "source": [
    "1. Create list of numbers inside the varaible a \n",
    "2. By using for loop in a it will iterate through all the numbers inside the variable a\n",
    "3. By using count function if count of that number is greater than the 1 in the list than by using remove method it will remove all the occurrences from that specific element\n",
    "4. Print the result"
   ]
  },
  {
   "cell_type": "markdown",
   "id": "e2edd9b5-7d0d-4316-b0a7-c16a5abc6acc",
   "metadata": {},
   "source": [
    "16. Develop a program that generates a multiplication table for numbers from 1 to 5 using a nested `for` loop."
   ]
  },
  {
   "cell_type": "code",
   "execution_count": 9,
   "id": "45e62dc5-3a57-4976-b399-7b0522b0ebb3",
   "metadata": {},
   "outputs": [
    {
     "name": "stdout",
     "output_type": "stream",
     "text": [
      " 1 * 1 = 1\n",
      " 1 * 2 = 2\n",
      " 1 * 3 = 3\n",
      " 1 * 4 = 4\n",
      " 1 * 5 = 5\n",
      " 1 * 6 = 6\n",
      " 1 * 7 = 7\n",
      " 1 * 8 = 8\n",
      " 1 * 9 = 9\n",
      " 1 * 10 = 10\n",
      " 2 * 1 = 2\n",
      " 2 * 2 = 4\n",
      " 2 * 3 = 6\n",
      " 2 * 4 = 8\n",
      " 2 * 5 = 10\n",
      " 2 * 6 = 12\n",
      " 2 * 7 = 14\n",
      " 2 * 8 = 16\n",
      " 2 * 9 = 18\n",
      " 2 * 10 = 20\n",
      " 3 * 1 = 3\n",
      " 3 * 2 = 6\n",
      " 3 * 3 = 9\n",
      " 3 * 4 = 12\n",
      " 3 * 5 = 15\n",
      " 3 * 6 = 18\n",
      " 3 * 7 = 21\n",
      " 3 * 8 = 24\n",
      " 3 * 9 = 27\n",
      " 3 * 10 = 30\n",
      " 4 * 1 = 4\n",
      " 4 * 2 = 8\n",
      " 4 * 3 = 12\n",
      " 4 * 4 = 16\n",
      " 4 * 5 = 20\n",
      " 4 * 6 = 24\n",
      " 4 * 7 = 28\n",
      " 4 * 8 = 32\n",
      " 4 * 9 = 36\n",
      " 4 * 10 = 40\n",
      " 5 * 1 = 5\n",
      " 5 * 2 = 10\n",
      " 5 * 3 = 15\n",
      " 5 * 4 = 20\n",
      " 5 * 5 = 25\n",
      " 5 * 6 = 30\n",
      " 5 * 7 = 35\n",
      " 5 * 8 = 40\n",
      " 5 * 9 = 45\n",
      " 5 * 10 = 50\n"
     ]
    }
   ],
   "source": [
    "for i in range(1, 6):\n",
    "    for j in range(1, 11):\n",
    "        print(f\" {i} * {j} = {i * j}\")"
   ]
  },
  {
   "cell_type": "markdown",
   "id": "5c685446-5f25-4534-9526-69a4d4410cc3",
   "metadata": {},
   "source": [
    "1. Apply for loop in the range of 1 to 6 it wiil iterate through all the numbers and store inside the variable i\n",
    "2. Apply another for loop which is in the range of 1 to 10 it iterate all the numbers and store inside the variable j\n",
    "3. Then we multiply variable i * j and print the results in the multiplication table format"
   ]
  },
  {
   "cell_type": "markdown",
   "id": "e7b9f7c0-fdba-453b-a78b-9f3f55860582",
   "metadata": {},
   "source": [
    "17. Write a program that converts a list of Fahrenheit temperatures to Celsius using a `for` loop."
   ]
  },
  {
   "cell_type": "code",
   "execution_count": 12,
   "id": "00039ecd-973d-4556-8e61-c6776910a423",
   "metadata": {},
   "outputs": [],
   "source": [
    "farhenheit_temperature = [75.1,77.7,83.2,82.5,81.0,79.5,85.7]"
   ]
  },
  {
   "cell_type": "code",
   "execution_count": 17,
   "id": "3d6ddc97-555c-433b-b095-c41153064124",
   "metadata": {},
   "outputs": [
    {
     "name": "stdout",
     "output_type": "stream",
     "text": [
      "The celcius Temeperature is [23.9, 25.4, 28.4, 28.1, 27.2, 26.4, 29.8]\n"
     ]
    }
   ],
   "source": [
    "celcius_temperature = []\n",
    "for i in farhenheit_temperature:\n",
    "    c = (i -32) * 5/9\n",
    "    celcius_temperature.append(round(c,1))\n",
    "print(f'The celcius Temeperature is {celcius_temperature}')"
   ]
  },
  {
   "cell_type": "markdown",
   "id": "e790ca29-43be-4fea-8b7e-71f6b0b38724",
   "metadata": {},
   "source": [
    "1. Create a list of Farhenheit temperature inside the farhenheit_temperature\n",
    "2. Create a empty list inside the variable celcius_temperature\n",
    "3. By using for loop in the farhenheit_temperature list it will iterate all the numbers inside the farhenheit_temperture and store inside the variable.\n",
    "4. By using conversion formulae for farhenheit tempture to celcius Temperature and convert all the number into celcius temperture and store inside the variable c\n",
    "5. We are appendind all the converted celcius temperature into the list celcius_temperature variable and by using round function we round the decimal number only upto 1 number after decimal\n",
    "6. Print the result "
   ]
  },
  {
   "cell_type": "markdown",
   "id": "c6390182-7a66-427a-a5bb-5476c01d9408",
   "metadata": {},
   "source": [
    "18. Create a program to print the common elements from two lists using a `for` loop."
   ]
  },
  {
   "cell_type": "code",
   "execution_count": 19,
   "id": "4028a2d7-f2d3-4537-9185-3f2fec2bc404",
   "metadata": {},
   "outputs": [],
   "source": [
    "a = [1, 2, 3, 4, 5]\n",
    "b = [1, 2, 6, 7, 8]"
   ]
  },
  {
   "cell_type": "code",
   "execution_count": 21,
   "id": "aab7a34e-f870-44d0-a669-f70b7749bafc",
   "metadata": {},
   "outputs": [
    {
     "name": "stdout",
     "output_type": "stream",
     "text": [
      "Common element between two list is [1, 2]\n"
     ]
    }
   ],
   "source": [
    "common_element = []\n",
    "for i in a:\n",
    "    if i in b:\n",
    "        common_element.append(i)\n",
    "print(f'Common element between two list is {common_element}')"
   ]
  },
  {
   "cell_type": "markdown",
   "id": "53be0424-115e-4048-93b3-02a1e0d59e9f",
   "metadata": {},
   "source": [
    "1. Create a two list inside the variable a and variable b\n",
    "2. Create a empty list inside the variable common_element\n",
    "3. By using for loop in a it will iterate throughb all the element inside the variable list(a) and store into the variable i\n",
    "4. By using conditional statement it checks if that number is present in another list which is b or not \n",
    "5. If that number is present inside the another list then that number will be appended to the another list called common_element \n",
    "6. Print the result "
   ]
  },
  {
   "cell_type": "markdown",
   "id": "8b33afdd-a61d-45fb-b6e9-de87c9285ed9",
   "metadata": {},
   "source": [
    "19. Develop a program that prints the pattern of right-angled triangles using a `for` loop. Use ‘*’ to draw the\n",
    "pattern"
   ]
  },
  {
   "cell_type": "code",
   "execution_count": 52,
   "id": "97ec4ba0-0f24-42d5-bf50-ccd39c7ace13",
   "metadata": {},
   "outputs": [],
   "source": [
    "a = '*'"
   ]
  },
  {
   "cell_type": "code",
   "execution_count": 53,
   "id": "c136fe3a-57a9-409e-a707-179200fd423c",
   "metadata": {},
   "outputs": [
    {
     "name": "stdout",
     "output_type": "stream",
     "text": [
      "**\n",
      "***\n",
      "****\n",
      "*****\n",
      "******\n",
      "*******\n",
      "********\n",
      "*********\n",
      "**********\n",
      "***********\n"
     ]
    }
   ],
   "source": [
    "for i in range(10):\n",
    "    a += \"*\"\n",
    "    print(a)"
   ]
  },
  {
   "cell_type": "markdown",
   "id": "cecff9ce-6a7a-426c-a73f-8d3d19f2e890",
   "metadata": {},
   "source": [
    "1. Create avariable a inside we define srting '*'\n",
    "2. By using for loop in the range 10 it will iterate through all the numberws with in a range 1 to 10\n",
    "3. Create right angle triangle after each iteration of number we add one string to it\n",
    "4. Print the result"
   ]
  },
  {
   "cell_type": "markdown",
   "id": "e78a2d1e-95e7-4922-acef-8fae30afff07",
   "metadata": {},
   "source": [
    "20. Write a program to find the greatest common divisor (GCD) of two numbers using a `for` loop."
   ]
  },
  {
   "cell_type": "code",
   "execution_count": 5,
   "id": "d2aa1629-4983-4748-b696-0af81a13299b",
   "metadata": {},
   "outputs": [
    {
     "name": "stdin",
     "output_type": "stream",
     "text": [
      "Enter the number:  24\n",
      "Enter the number:  54\n"
     ]
    }
   ],
   "source": [
    "a = int(input('Enter the number: '))\n",
    "b = int(input('Enter the number: '))"
   ]
  },
  {
   "cell_type": "code",
   "execution_count": 6,
   "id": "fe5bbd04-29fd-4b69-bdcb-42b9e1df8b12",
   "metadata": {},
   "outputs": [],
   "source": [
    "def gcd(num1, num2):\n",
    "    divisor_1 = []\n",
    "    divisor_2 = []\n",
    "    common_element = []\n",
    "    for i in range(1, 100):\n",
    "        if num1 % i == 0:\n",
    "            divisor_1.append(i)\n",
    "        if num2 % i == 0:\n",
    "            divisor_2.append(i)\n",
    "        \n",
    "    for j in divisor_1:\n",
    "        if j in divisor_2:\n",
    "            common_element.append(j)\n",
    "    \n",
    "    return max(common_element)"
   ]
  },
  {
   "cell_type": "code",
   "execution_count": 8,
   "id": "e1c81835-1786-4de3-937f-44f5f813bd7f",
   "metadata": {},
   "outputs": [
    {
     "name": "stdout",
     "output_type": "stream",
     "text": [
      "Greatest Common Divisior between 24 and 54 is 6\n"
     ]
    }
   ],
   "source": [
    "print(f\"Greatest Common Divisior between {a} and {b} is {gcd(a, b)}\")"
   ]
  },
  {
   "cell_type": "markdown",
   "id": "5cf19001-bd75-4604-ae08-65f1ffb51a91",
   "metadata": {},
   "source": [
    "1. Create a variable a and variable which takes the input from the user in integer\n",
    "2. We create a function called gcd which takes twon arguments\n",
    "3. Inside the gcd function we created a empty list inside the variable divisor_1, divisor_2 and common_element\n",
    "4. Using for loop within the range of 1 to 100 if in first number is divisible by any number which is stored inside the variable i we are appending that number into the divisor_1\n",
    "5. Similarly we follow the same steps for divisor_2 as divisor_1\n",
    "6. Applying another for loop and it will iterate through all the number inside the divisor_1 and store into the j variable\n",
    "7. If number inside the j variable is present inside the list of divisor_2 then that number will be appended to the list of common_elemen\n",
    "8. We are returning the maximum number within that common_element list\n",
    "9. Print the result"
   ]
  },
  {
   "cell_type": "markdown",
   "id": "0a800edd-c937-44fb-9bb3-fac929e2e8dc",
   "metadata": {},
   "source": [
    "21. Create a program that calculates the sum of the digits of numbers in a list using a list comprehension."
   ]
  },
  {
   "cell_type": "code",
   "execution_count": 37,
   "id": "fa3155b0-747a-48c2-8fb1-1ec41e4bcf59",
   "metadata": {},
   "outputs": [],
   "source": [
    "a = [1, 2, 3, 4, 5, 6, 7, 8, 9, 10]"
   ]
  },
  {
   "cell_type": "code",
   "execution_count": 38,
   "id": "8ce59897-873a-4730-8638-16e7e91cfba3",
   "metadata": {},
   "outputs": [],
   "source": [
    "sum_num = sum([i for i in a]) "
   ]
  },
  {
   "cell_type": "code",
   "execution_count": 39,
   "id": "c19f23c5-27f0-42ec-b2cf-f288597bb195",
   "metadata": {},
   "outputs": [
    {
     "name": "stdout",
     "output_type": "stream",
     "text": [
      "55\n"
     ]
    }
   ],
   "source": [
    "print(sum_num)"
   ]
  },
  {
   "cell_type": "markdown",
   "id": "5310f317-a401-44b6-9c4a-407c257d7ee6",
   "metadata": {},
   "source": [
    "1. Create a list of numbers inside the variable a \n",
    "2. Create another variable sum_num in that variable we are applying list comprehension\n",
    "3. Inside list comprehension first we have to apply for loop inside the variable a it will iterate through all the characters inside the variable a \n",
    "4. Then that numbers will be added into the list of sum_num\n",
    "5. For calculating total we are using sum function outside list comprehension it will calculate sum of all inside the variable sum_num and print the result"
   ]
  },
  {
   "cell_type": "markdown",
   "id": "1f789214-6723-4d17-a7fe-073cb81b5783",
   "metadata": {},
   "source": [
    "22. Write a program to find the prime factors of a given number using a `for` loop and list comprehension."
   ]
  },
  {
   "cell_type": "code",
   "execution_count": 219,
   "id": "9ff35c25-d032-4bfa-ba5f-6eac1a8b480a",
   "metadata": {},
   "outputs": [
    {
     "name": "stdin",
     "output_type": "stream",
     "text": [
      "Enter the number :  24\n"
     ]
    }
   ],
   "source": [
    "a = int(input('Enter the number : '))"
   ]
  },
  {
   "cell_type": "code",
   "execution_count": 220,
   "id": "7ffe3d1a-db81-4243-8c78-6f15a4eb2b15",
   "metadata": {},
   "outputs": [],
   "source": [
    "def  is_prime(num):\n",
    "    if num < 1:\n",
    "        return False \n",
    "    for i in range(2, int(num ** 0.5) +1):\n",
    "        if num % i == 0:\n",
    "            return False \n",
    "    return True\n",
    "    "
   ]
  },
  {
   "cell_type": "code",
   "execution_count": 221,
   "id": "8465a4f0-416f-4808-b1a2-135d705ecfcd",
   "metadata": {},
   "outputs": [],
   "source": [
    "prime_factor = []\n",
    "factor = [prime_factor.append(i) for i in range(2, 100) if a % i == 0 if is_prime(i)]       "
   ]
  },
  {
   "cell_type": "code",
   "execution_count": 222,
   "id": "bfb6f2ef-b07d-4ccf-9004-1e163abdfe7a",
   "metadata": {},
   "outputs": [
    {
     "name": "stdout",
     "output_type": "stream",
     "text": [
      "[2, 3]\n"
     ]
    }
   ],
   "source": [
    "print(prime_factor)"
   ]
  },
  {
   "cell_type": "markdown",
   "id": "126464ee-8ea3-4d8c-bddf-3a76398e74fe",
   "metadata": {},
   "source": [
    "1. Create a variable a which takes the input from the user\n",
    "2. Create function called is_prime which takes one arguement it will check that number is prime or not\n",
    "3. By using list comprehension first by using for loop in the range (2, 100) in which they iterate through all the number between the range of 2 to 100\n",
    "4. It first divide the number and get the factors of that number and then we if that number is an prime number then it will append in to the list called Prime_factors.\n",
    "5. But in this case the prime factors are printed only single element not the duplicates element of that factor\n",
    "6. Print the result "
   ]
  },
  {
   "cell_type": "markdown",
   "id": "26af5829-25cd-44c3-b776-8917b8b12966",
   "metadata": {},
   "source": [
    "23. Develop a program that extracts unique elements from a list and stores them in a new list using a list\n",
    "comprehension."
   ]
  },
  {
   "cell_type": "code",
   "execution_count": 216,
   "id": "dda73ef4-dbff-46dd-8ffe-4bcbc5e8a388",
   "metadata": {},
   "outputs": [],
   "source": [
    "a = [1, 2, 3, 4, 5, 3, 2, 5, 8, 9, 10]"
   ]
  },
  {
   "cell_type": "code",
   "execution_count": 217,
   "id": "bdd32e63-e0cb-4fad-b0ba-3af9046d9aea",
   "metadata": {},
   "outputs": [],
   "source": [
    "unique_list = []\n",
    "list_1 = [unique_list.append(i) for i in a if i not in unique_list]"
   ]
  },
  {
   "cell_type": "code",
   "execution_count": 218,
   "id": "6fa77c0a-f46b-4ee5-81c9-44d2c857b8d3",
   "metadata": {},
   "outputs": [
    {
     "name": "stdout",
     "output_type": "stream",
     "text": [
      "[1, 2, 3, 4, 5, 8, 9, 10]\n"
     ]
    }
   ],
   "source": [
    "print(unique_list)"
   ]
  },
  {
   "cell_type": "markdown",
   "id": "b2f4917a-dbbd-48c2-a906-cae1e5aa9fba",
   "metadata": {},
   "source": [
    "1. Create a list inside the variable a \n",
    "2. Creat a empty list inside the varaible called unique list\n",
    "3. By using list comprehension and applying for loop in varaiable list of a it will iterate through all the element inside and stores into the varaiable i\n",
    "4. If element inside variable is not present in unique list of varaiable then that will be append into the unique list if the element inside i is present in another list then it will not be added into unique list"
   ]
  },
  {
   "cell_type": "markdown",
   "id": "eec84bca-4603-4bb1-8f40-76eb7a8ac4d4",
   "metadata": {},
   "source": [
    "24. Create a program that generates a list of all palindromic numbers up to a specified limit using a list\n",
    "comprehension."
   ]
  },
  {
   "cell_type": "code",
   "execution_count": 12,
   "id": "19b1624a-6eb9-4b39-902b-9910ed928f3c",
   "metadata": {},
   "outputs": [],
   "source": [
    "a = [i for i in range(1, 100)]"
   ]
  },
  {
   "cell_type": "code",
   "execution_count": 13,
   "id": "4712665f-34a6-4944-9d1b-d542b7d8a3bb",
   "metadata": {},
   "outputs": [
    {
     "name": "stdout",
     "output_type": "stream",
     "text": [
      "[1, 2, 3, 4, 5, 6, 7, 8, 9, 10, 11, 12, 13, 14, 15, 16, 17, 18, 19, 20, 21, 22, 23, 24, 25, 26, 27, 28, 29, 30, 31, 32, 33, 34, 35, 36, 37, 38, 39, 40, 41, 42, 43, 44, 45, 46, 47, 48, 49, 50, 51, 52, 53, 54, 55, 56, 57, 58, 59, 60, 61, 62, 63, 64, 65, 66, 67, 68, 69, 70, 71, 72, 73, 74, 75, 76, 77, 78, 79, 80, 81, 82, 83, 84, 85, 86, 87, 88, 89, 90, 91, 92, 93, 94, 95, 96, 97, 98, 99]\n"
     ]
    }
   ],
   "source": [
    "print(a)"
   ]
  },
  {
   "cell_type": "code",
   "execution_count": 19,
   "id": "5ba110fe-df21-4201-8f5a-d6f6c110c4bd",
   "metadata": {},
   "outputs": [],
   "source": [
    "b = [str(i) for i in a]"
   ]
  },
  {
   "cell_type": "code",
   "execution_count": 20,
   "id": "6fccbe99-e7c7-4a99-80fd-a42f17e68795",
   "metadata": {},
   "outputs": [],
   "source": [
    "palindromic_list = [int(b[i]) for i in range(len(b)) if b[i] == b[i][::-1]] "
   ]
  },
  {
   "cell_type": "code",
   "execution_count": 21,
   "id": "510c4b0c-2610-4efe-92a0-b18251ada219",
   "metadata": {},
   "outputs": [
    {
     "name": "stdout",
     "output_type": "stream",
     "text": [
      "[1, 2, 3, 4, 5, 6, 7, 8, 9, 11, 22, 33, 44, 55, 66, 77, 88, 99]\n"
     ]
    }
   ],
   "source": [
    "print(palindromic_list)"
   ]
  },
  {
   "cell_type": "markdown",
   "id": "b12b8513-c69e-4233-b8e1-776959e34f1d",
   "metadata": {},
   "source": [
    "1. Create a list inside the variable by using list comprehension within the specified limit 1 to 100\n",
    "2. Then we create a another list inside the variable b and convert all the interger into the string\n",
    "3. By using list comprehension by using for loop in the range of length of variable of b it will iterate all the character inside the variable and store the element inside i\n",
    "4. By using slicing methods in string we check that if the normal string is equal to the reverse if this is true then this called palindrome. That element at that index will be store into the palindromic list\n",
    "5. Print the result "
   ]
  },
  {
   "cell_type": "markdown",
   "id": "064ecfd2-4924-4925-8756-eab1bde60174",
   "metadata": {},
   "source": [
    "25. Write a program to flatten a nested list using list comprehension."
   ]
  },
  {
   "cell_type": "code",
   "execution_count": 22,
   "id": "677e71a8-8763-49fb-88f8-0a3ce26b71e0",
   "metadata": {},
   "outputs": [],
   "source": [
    "a = [[1, 2, 3, 4, 5], [6, 7, 8, 9, 10]]"
   ]
  },
  {
   "cell_type": "code",
   "execution_count": 27,
   "id": "3f9c5aff-7db1-4ead-ad33-3be530377f4c",
   "metadata": {},
   "outputs": [],
   "source": [
    "flatten_list = [j for i in a for j in i]"
   ]
  },
  {
   "cell_type": "code",
   "execution_count": 28,
   "id": "c523f933-ed83-46fc-b38d-dcaf0ae19a76",
   "metadata": {},
   "outputs": [
    {
     "name": "stdout",
     "output_type": "stream",
     "text": [
      "[1, 2, 3, 4, 5, 6, 7, 8, 9, 10]\n"
     ]
    }
   ],
   "source": [
    "print(flatten_list)"
   ]
  },
  {
   "cell_type": "markdown",
   "id": "becc9825-6895-4dfd-af3b-f874b4199d3f",
   "metadata": {},
   "source": [
    "1. Create a nested list inside the variable a\n",
    "2. By using list comprehension inside the list compresion first we apply for loop inside the variable we will get the two separate list and store inside the variable i\n",
    "3. We again apply for loop but this time in variable i it will oterate through all the elements present in the two list and store inside the variable j\n",
    "4. Then we will put all the value of j inside the list and store in the variable called flatten_list\n",
    "5. Print the result"
   ]
  },
  {
   "cell_type": "markdown",
   "id": "c8edfd61-3d3d-4185-b4cc-ebb4a9a28712",
   "metadata": {},
   "source": [
    "26. Develop a program that computes the sum of even and odd numbers in a list separately using list\n",
    "comprehension."
   ]
  },
  {
   "cell_type": "code",
   "execution_count": 29,
   "id": "1858e9b3-ed8d-4b84-b676-16cd4a67799f",
   "metadata": {},
   "outputs": [],
   "source": [
    "sum_even = sum([i for i in range(1,10) if i % 2 == 0])\n",
    "sum_odd = sum([i for i in range(1,10) if i % 2 != 0])"
   ]
  },
  {
   "cell_type": "code",
   "execution_count": 31,
   "id": "33c97d8d-9e70-4c24-99a4-b5c005f66603",
   "metadata": {},
   "outputs": [
    {
     "name": "stdout",
     "output_type": "stream",
     "text": [
      "The sum of even is 20\n",
      "The sum of odd is 25\n"
     ]
    }
   ],
   "source": [
    "print(f\"The sum of even is {sum_even}\")\n",
    "print(f\"The sum of odd is {sum_odd}\")"
   ]
  },
  {
   "cell_type": "markdown",
   "id": "7e2714ca-2adb-4caf-ac67-7d79471855af",
   "metadata": {},
   "source": [
    "1. Create a varibale called sum_even \n",
    "2. Sum_even function we are using list comprehension first we apply for loop in the range between 1 to 10 which will store all the number inside the variable i.\n",
    "3. If any number is divisible by 2 then that will be store into the list sum_even\n",
    "4. We apply sum function outside the list so that it add all the even numbers which are currently present inside the sum_even\n",
    "5. Similarly we have taken approach for odd numbers and create another variable called Sum_odd\n",
    "6. Similarly we use list comprehension instead of the number store inside the variable i divisible by 2 it that number will not divisible by 2\n",
    "7. print the result"
   ]
  },
  {
   "cell_type": "markdown",
   "id": "42724f4c-9555-44aa-b97f-1b2032499396",
   "metadata": {},
   "source": [
    "27. Create a program that generates a list of squares of odd numbers between 1 and 10 using list\n",
    "comprehension."
   ]
  },
  {
   "cell_type": "code",
   "execution_count": 32,
   "id": "b79c4089-ff5f-4e9c-8e45-b3b8ddcdf8bc",
   "metadata": {},
   "outputs": [],
   "source": [
    "square_odd_numbers = [i ** 2 for i in range(1,10) if i % 2 != 0]"
   ]
  },
  {
   "cell_type": "code",
   "execution_count": 33,
   "id": "a758f604-48f4-4ec6-b376-5bf28181ef62",
   "metadata": {},
   "outputs": [
    {
     "name": "stdout",
     "output_type": "stream",
     "text": [
      "[1, 9, 25, 49, 81]\n"
     ]
    }
   ],
   "source": [
    "print(square_odd_numbers)"
   ]
  },
  {
   "cell_type": "markdown",
   "id": "81d3aa5a-c092-457a-901f-3ed72dcb0b65",
   "metadata": {},
   "source": [
    "1. Create a variable called square_odd_numbers\n",
    "2. Inside the square_odd_numbers we are applying list comprehension inside the list comprehension we have applied the for loop in the range of 1 to 10\n",
    "3. After apply for loop we are using conditional statement if number store inside the variable i is not divisible by 2 then those numbers are odd numbers \n",
    "4. Then print then value of i inside the list and all the numbers should have square of the odd number\n",
    "5. Print the result "
   ]
  },
  {
   "cell_type": "markdown",
   "id": "cef8a757-0625-4c47-b273-bd307b3d77bb",
   "metadata": {},
   "source": [
    "28. Write a program that combines two lists into a dictionary using list comprehension."
   ]
  },
  {
   "cell_type": "code",
   "execution_count": 58,
   "id": "e71c1036-68fe-4b3d-8a59-ae485ce4b1c2",
   "metadata": {},
   "outputs": [],
   "source": [
    "a = ['apple', 'mango' , 'Banana', 'orange']\n",
    "b = [1, 2, 3, 4]"
   ]
  },
  {
   "cell_type": "code",
   "execution_count": 59,
   "id": "269bb1b4-7b11-40d7-b927-154f6ec4fb71",
   "metadata": {},
   "outputs": [],
   "source": [
    "dict_list = dict([(a[i],b[i]) for i in range(len(a))])"
   ]
  },
  {
   "cell_type": "code",
   "execution_count": 60,
   "id": "da31cdd3-b778-4500-8c77-01b027904135",
   "metadata": {},
   "outputs": [
    {
     "name": "stdout",
     "output_type": "stream",
     "text": [
      "{'apple': 1, 'mango': 2, 'Banana': 3, 'orange': 4}\n"
     ]
    }
   ],
   "source": [
    "print(dict_list)"
   ]
  },
  {
   "cell_type": "markdown",
   "id": "31a6784c-433d-455d-8b7d-0070ca597b69",
   "metadata": {},
   "source": [
    "1. Create a two list inside the variable a and b\n",
    "2. Using list comprehension in the variable called dict_list\n",
    "3. Inside the list_comprehension we are applying for loop in the range of len(list(a)) it will store the value in i in integer format from 0\n",
    "4. By using indexing methon list we are takig index number from at that indext number whatever element are store it will print and it is in the form of tuple\n",
    "5. By using the type conversion method we are converting all element inside the list into dictionary format\n",
    "6. Print the result"
   ]
  },
  {
   "cell_type": "markdown",
   "id": "cc2923d9-b2fe-432b-b647-628263556d98",
   "metadata": {},
   "source": [
    "29. Develop a program that extracts the vowels from a string and stores them in a list using list comprehension."
   ]
  },
  {
   "cell_type": "code",
   "execution_count": 68,
   "id": "f1635447-c429-40f7-9436-e4a93e84eb99",
   "metadata": {},
   "outputs": [
    {
     "name": "stdin",
     "output_type": "stream",
     "text": [
      "Enter Something:  I am learning python\n"
     ]
    }
   ],
   "source": [
    "a = input('Enter Something: ').lower()\n",
    "b = 'aeiou'"
   ]
  },
  {
   "cell_type": "code",
   "execution_count": 69,
   "id": "6a0689db-cf0b-49d7-82d0-1c6b256a16a9",
   "metadata": {},
   "outputs": [],
   "source": [
    "vowels_list = [i for i in a for j in b if i == j]"
   ]
  },
  {
   "cell_type": "code",
   "execution_count": 70,
   "id": "3ca07ea1-eef8-4b87-bd53-6009040eb80b",
   "metadata": {},
   "outputs": [
    {
     "name": "stdout",
     "output_type": "stream",
     "text": [
      "['i', 'a', 'e', 'a', 'i', 'o']\n"
     ]
    }
   ],
   "source": [
    "print(vowels_list)"
   ]
  },
  {
   "cell_type": "markdown",
   "id": "4e3f1c20-5343-43f1-b6e5-06e9d28f215b",
   "metadata": {},
   "source": [
    "1. Create a variable a which takes the user input into the string format\n",
    "2. Create another varaible which is having a characters of vowels\n",
    "3. By using list comprehension in vowels_list inside the list comprehension we are applying first for loop in a it will iterate through all the characters inside a and store into the variable i\n",
    "4. We are using another for loop inside the list comprehension in variable b it will through all the characters inside variable b and stores the value in j\n",
    "5. Using condition statetement if each character inside and each character inside j is equal to each other then we will print the element inside i\n",
    "6. Print the result "
   ]
  },
  {
   "cell_type": "markdown",
   "id": "66807c8e-caa8-494a-8fd9-12d090a1944d",
   "metadata": {},
   "source": [
    "30. Create a program that removes all non-numeric characters from a list of strings using list comprehension."
   ]
  },
  {
   "cell_type": "code",
   "execution_count": 72,
   "id": "75e78c72-d735-4c9c-83f8-f544a38e680b",
   "metadata": {},
   "outputs": [],
   "source": [
    "a = ['Python123', 'Scala345', 'Java678', 'Flutter234']"
   ]
  },
  {
   "cell_type": "code",
   "execution_count": 90,
   "id": "15e1d69d-ed6d-447a-af0c-1a4ba98c6ba2",
   "metadata": {},
   "outputs": [],
   "source": [
    "non_numeric_list = [int(j) for i in a for j in i if j.isdigit()]"
   ]
  },
  {
   "cell_type": "code",
   "execution_count": 91,
   "id": "3b42150d-38f4-4d84-9953-ef7d8302894d",
   "metadata": {},
   "outputs": [
    {
     "name": "stdout",
     "output_type": "stream",
     "text": [
      "[1, 2, 3, 3, 4, 5, 6, 7, 8, 2, 3, 4]\n"
     ]
    }
   ],
   "source": [
    "print(non_numeric_list)"
   ]
  },
  {
   "cell_type": "markdown",
   "id": "e8dc926a-c8c0-4879-a3e8-c6f679ae3960",
   "metadata": {},
   "source": [
    "1. Creayte a list of string inside the variable a \n",
    "2. By using list compreshension in the variable called non_numeric list inside the list comprehension applying for loop inside it will iterate through all the numbers inside the variable a \n",
    "3. Apply another for loop in variable i it will iterate through each elements inside the variable i and sepearate the elements from other and store the element individually inside the variable j\n",
    "4. By using conditional statement if any element having only digit i.e by isdigit() class if that element is only numeric then it becomes true print that element\n",
    "5. Print the result "
   ]
  },
  {
   "cell_type": "markdown",
   "id": "661d02ad-4a2f-4fb5-8fae-feedb718df35",
   "metadata": {},
   "source": [
    "31. Write a program to generate a list of prime numbers using the Sieve of Eratosthenes algorithm and list\n",
    "comprehension."
   ]
  },
  {
   "cell_type": "code",
   "execution_count": 11,
   "id": "aaea8f9c-30bb-43e7-90b0-6bb21be4ed51",
   "metadata": {},
   "outputs": [
    {
     "name": "stdout",
     "output_type": "stream",
     "text": [
      "[2, 3, 5, 7, 11, 13, 17, 19, 23, 29, 31, 37, 41, 43, 47]\n"
     ]
    }
   ],
   "source": [
    "from functools import reduce\n",
    "n = 50\n",
    "primes =list( reduce(lambda r, x: r - set(range(x**2, n, x)) \n",
    "                if x in r else r, range(2, int(n**0.5) + 1), set(range(2,n))))\n",
    "print(primes)\n"
   ]
  },
  {
   "cell_type": "markdown",
   "id": "786ac228-38e0-499e-9b44-9654b2281d03",
   "metadata": {},
   "source": [
    "1. We created a function sieve _of_eratosthenes which takes one argument\n",
    "2. Inside the variable prime we are using list compreshension first for loop inside that for loop we check if any element having the multiple of not.\n",
    "3. If that number is not having the multiple then those number are added into the primes variable\n",
    "4. Print the result "
   ]
  },
  {
   "cell_type": "markdown",
   "id": "63275372-f566-4112-a31d-0ea4f25d7a5d",
   "metadata": {},
   "source": [
    "32. Create a program that generates a list of all Pythagorean triplets up to a specified limit using list\n",
    "comprehension."
   ]
  },
  {
   "cell_type": "code",
   "execution_count": 95,
   "id": "7e71038b-bf32-46ce-aca4-97ad22cf2671",
   "metadata": {},
   "outputs": [],
   "source": [
    "a = [i for i in range(1,20)] "
   ]
  },
  {
   "cell_type": "code",
   "execution_count": 96,
   "id": "28da33d1-0795-4fb0-9171-5d1475313cb0",
   "metadata": {},
   "outputs": [],
   "source": [
    "pythogorean_triplets_even = [(i,(i/2)**2 -1,(i/2)**2 +1) for i in range(1,len(a)) if i % 2 == 0]"
   ]
  },
  {
   "cell_type": "code",
   "execution_count": 97,
   "id": "25771776-30cb-43c9-85aa-883d941595a7",
   "metadata": {},
   "outputs": [],
   "source": [
    "pythogorean_triplets_odd = [(i,(i**2/2)-0.5,(i**2/2) +0.5) for i in range(1, len(a)) if i % 2 != 0]"
   ]
  },
  {
   "cell_type": "code",
   "execution_count": 98,
   "id": "b0fde462-2889-47e3-9ee0-1c95fe2104b9",
   "metadata": {},
   "outputs": [
    {
     "name": "stdout",
     "output_type": "stream",
     "text": [
      " The even pythogorena triplets is : [(2, 0.0, 2.0), (4, 3.0, 5.0), (6, 8.0, 10.0), (8, 15.0, 17.0), (10, 24.0, 26.0), (12, 35.0, 37.0), (14, 48.0, 50.0), (16, 63.0, 65.0), (18, 80.0, 82.0)]\n",
      "The odd pythogorean triplets is : [(1, 0.0, 1.0), (3, 4.0, 5.0), (5, 12.0, 13.0), (7, 24.0, 25.0), (9, 40.0, 41.0), (11, 60.0, 61.0), (13, 84.0, 85.0), (15, 112.0, 113.0), (17, 144.0, 145.0)]\n"
     ]
    }
   ],
   "source": [
    "print(f' The even pythogorena triplets is : {pythogorean_triplets_even}')\n",
    "print(f'The odd pythogorean triplets is : {pythogorean_triplets_odd}')"
   ]
  },
  {
   "cell_type": "markdown",
   "id": "624e3bac-40e0-4b5e-a37b-6aeb3abfec59",
   "metadata": {},
   "source": [
    "1. Create a list inside the variable variable a\n",
    "2. For pythogorean triplets there are two scenarios one is even and one is odd \n",
    "3. So we create two separate list of even and odd number pythogorean triplets using the list comprehension\n",
    "4. In pythogorean_triplets_even using list comprehension by using the for loop first we are checking that number is even or not if the number is even then we are applying formulae for pythogorean triplets for even number\n",
    "5. Similary in pythogorean_triplets_odd using list comprehension by applying for loop first we are checking thath number is odd or not if that number is odd then we are applying formulae for pythogorean triplets for odd_number"
   ]
  },
  {
   "cell_type": "markdown",
   "id": "ff9b9845-0bdf-4ff5-9655-561b88cb444b",
   "metadata": {},
   "source": [
    "33. Develop a program that generates a list of all possible combinations of two lists using list comprehension."
   ]
  },
  {
   "cell_type": "code",
   "execution_count": 100,
   "id": "8737bf7b-4962-43fa-bff5-1a9c083329c6",
   "metadata": {},
   "outputs": [],
   "source": [
    "a = [1, 2, 3, 4, 5]\n",
    "b = [6, 7, 8, 9, 10]"
   ]
  },
  {
   "cell_type": "code",
   "execution_count": 103,
   "id": "03abf11b-54aa-4809-98c2-4dcad6e265e2",
   "metadata": {},
   "outputs": [],
   "source": [
    "combination_list = [(i, j) for i in a for j in b]"
   ]
  },
  {
   "cell_type": "code",
   "execution_count": 104,
   "id": "06dced7e-d0b5-4391-8d53-03cabd59dea2",
   "metadata": {},
   "outputs": [
    {
     "name": "stdout",
     "output_type": "stream",
     "text": [
      "[(1, 6), (1, 7), (1, 8), (1, 9), (1, 10), (2, 6), (2, 7), (2, 8), (2, 9), (2, 10), (3, 6), (3, 7), (3, 8), (3, 9), (3, 10), (4, 6), (4, 7), (4, 8), (4, 9), (4, 10), (5, 6), (5, 7), (5, 8), (5, 9), (5, 10)]\n"
     ]
    }
   ],
   "source": [
    "print(combination_list)"
   ]
  },
  {
   "cell_type": "markdown",
   "id": "b946597b-d615-470b-87a0-468b25ba3f6c",
   "metadata": {},
   "source": [
    "1. Create a list inside the two variable which is a and b\n",
    "2. Using list comprehension in combination_list variable inside the list comprehension applying first for loop it will iterate all the elements inside a\n",
    "3. Using second for loop iterate all the elements inside the variable ba and store into variable j\n",
    "4. print the result in tuple of i and j"
   ]
  },
  {
   "cell_type": "markdown",
   "id": "90b360bb-0df7-4418-92c2-4962ed6740f6",
   "metadata": {},
   "source": [
    "34. Write a program that calculates the mean, median, and mode of a list of numbers using list\n",
    "comprehension."
   ]
  },
  {
   "cell_type": "code",
   "execution_count": 1,
   "id": "bb918539-97a8-478e-8c64-0480a661535e",
   "metadata": {},
   "outputs": [],
   "source": [
    "a = [1, 2, 3, 4, 4, 5, 6, 8, 9, 10]"
   ]
  },
  {
   "cell_type": "code",
   "execution_count": 6,
   "id": "91f8d5b2-99cd-4444-9356-d328b1dc13f8",
   "metadata": {},
   "outputs": [
    {
     "name": "stdout",
     "output_type": "stream",
     "text": [
      "Mean : 5.2, Median : 5.5, Mode : 4\n",
      "Mean : 5.2, Median : 5.5, Mode : 4\n"
     ]
    }
   ],
   "source": [
    "calculate = [(print(f'Mean : {sum(a)/len(a)}, Median : {(len(a) + 1)/ 2}, Mode : {i}')) \n",
    "             for i in a if a.count(i) > 1]"
   ]
  },
  {
   "cell_type": "markdown",
   "id": "7ea4700d-77cc-4946-8616-5bc3019d2b39",
   "metadata": {},
   "source": [
    "1. Create a list inside the variable a\n",
    "2. By using list comprehension inside the the variable calculate By using for loop we are calculating mode in these which is having repeated value more than 1 time\n",
    "3. By using formulae for mean and median we are calculation mean and median for these list\n",
    "4. Print the result "
   ]
  },
  {
   "cell_type": "markdown",
   "id": "e4287fbf-dffb-4a2d-8c6a-2725da8532b3",
   "metadata": {},
   "source": [
    "35. Create a program that generates Pascal's triangle up to a specified number of rows using list\n",
    "comprehension."
   ]
  },
  {
   "cell_type": "code",
   "execution_count": 1,
   "id": "e81645c9-5125-428d-a7d3-2236ed023268",
   "metadata": {},
   "outputs": [],
   "source": [
    "from math import factorial"
   ]
  },
  {
   "cell_type": "code",
   "execution_count": 2,
   "id": "f3f57526-471a-4eef-97ee-5490cc957be9",
   "metadata": {},
   "outputs": [],
   "source": [
    "n = 5\n",
    "pascal_triangle =[ (factorial(i)//(factorial(j) * factorial(i-j))) \n",
    "                  for i in range(n) for j in range(n-i+1) for j in range(i+1)]  "
   ]
  },
  {
   "cell_type": "code",
   "execution_count": 3,
   "id": "97961eae-b20f-4dec-836d-6dd49f974031",
   "metadata": {},
   "outputs": [
    {
     "name": "stdout",
     "output_type": "stream",
     "text": [
      "[1, 1, 1, 1, 1, 1, 1, 1, 1, 1, 1, 1, 1, 1, 1, 1, 1, 2, 1, 1, 2, 1, 1, 2, 1, 1, 2, 1, 1, 3, 3, 1, 1, 3, 3, 1, 1, 3, 3, 1, 1, 4, 6, 4, 1, 1, 4, 6, 4, 1]"
     ]
    }
   ],
   "source": [
    "print(pascal_triangle)"
   ]
  },
  {
   "cell_type": "markdown",
   "id": "5693d9f6-12e7-4335-8335-103dbeb07187",
   "metadata": {},
   "source": [
    "1. We imported factorial from math module \n",
    "2. By using list comprehension inside the pascals triangle inside the the list comprehension we are applying three for loops \n",
    "3. By using the pascals triangle formulae we are printing the numbers upto the specified limits\n",
    "4. Print the results"
   ]
  },
  {
   "cell_type": "markdown",
   "id": "a0cf8778-be53-4146-a777-d366cc745f9b",
   "metadata": {},
   "source": [
    "36. Develop a program that calculates the sum of the digits of a factorial of numbers from 1 to 5 using list\n",
    "comprehension."
   ]
  },
  {
   "cell_type": "code",
   "execution_count": 22,
   "id": "5dae38a2-810a-4019-8e7d-f87ed74f1c7a",
   "metadata": {},
   "outputs": [],
   "source": [
    "import math\n",
    "factorial_number = [sum(math.factorial(i) for i in range(1,6))]"
   ]
  },
  {
   "cell_type": "code",
   "execution_count": 23,
   "id": "4f0a134a-83e7-43f9-99f5-5acdf14efd4a",
   "metadata": {},
   "outputs": [
    {
     "name": "stdout",
     "output_type": "stream",
     "text": [
      "[153]\n"
     ]
    }
   ],
   "source": [
    "print(factorial_number)"
   ]
  },
  {
   "cell_type": "markdown",
   "id": "021bfeb9-d3cc-4d42-8b63-fdbdac15a44d",
   "metadata": {},
   "source": [
    "1. Import the math module\n",
    "2. By using list comprihension inside the the factorial_number insdie the factorial_number ariable we are applying for loop in the range of 1 to 6 it will iterate through all the numbers and then store into the variable i\n",
    "3. By using math.factorial method we calculate all the factorial numbers which are storres into the variable i\n",
    "4. By using sum function we sum up all the element inside the variable i and caculate the total\n",
    "5. Print the result "
   ]
  },
  {
   "cell_type": "markdown",
   "id": "3a9507d9-d158-4820-9102-8a6799479b07",
   "metadata": {},
   "source": [
    "37. Write a program that finds the longest word in a sentence using list comprehension."
   ]
  },
  {
   "cell_type": "code",
   "execution_count": 85,
   "id": "52d7d099-51d1-4069-b073-df848c2409d8",
   "metadata": {},
   "outputs": [],
   "source": [
    "a = 'I am learning python sophisticated'"
   ]
  },
  {
   "cell_type": "code",
   "execution_count": 86,
   "id": "3ae61725-e3b8-4c19-a56f-202621cf853d",
   "metadata": {},
   "outputs": [],
   "source": [
    "def check_longest_word(words):\n",
    "    longest_word = ''\n",
    "    for word in words:\n",
    "        if len(word) > len(longest_word):\n",
    "            longest_word = word\n",
    "    print(longest_word)"
   ]
  },
  {
   "cell_type": "code",
   "execution_count": 87,
   "id": "7494da3d-fd89-43d2-a512-234d9bcea46b",
   "metadata": {},
   "outputs": [
    {
     "name": "stdout",
     "output_type": "stream",
     "text": [
      "sophisticated\n"
     ]
    }
   ],
   "source": [
    "b = a.split()\n",
    "longest_word = [b if check_longest_word(b) else None]"
   ]
  },
  {
   "cell_type": "markdown",
   "id": "c4c0c204-2cf8-4655-a680-fd766d98b291",
   "metadata": {},
   "source": [
    "1. Create a variable a inside the variable we are defining string \n",
    "2. First we are converting the string into the list inside the variable b\n",
    "3. Create a empty list inside the variable max_len\n",
    "4. By using list comprehension inside the variable sorting_word inside the list comprehension we are two for loops i and j the first for loop index should be start from 0 and second for loop index should be start from 1\n",
    "5. By using conditional statement if any len characters i is greater than len character j then those characters will be appending to the list of max_len but to avoid duplicates we are mentioning again conditional that character should not be present inside list of max_len\n",
    "6. Again we are using list comprehension inside the variable called longest word in the first list comprehension we got the two words but in the second list comprehension we are again checking the length of characters inside the variable a and b\n",
    "7. Print the result"
   ]
  },
  {
   "cell_type": "markdown",
   "id": "2132e49e-0d3b-4a87-a982-7f5a0b2b175f",
   "metadata": {},
   "source": [
    "38. Create a program that filters a list of strings to include only those with more than three vowels using list\n",
    "comprehension."
   ]
  },
  {
   "cell_type": "code",
   "execution_count": 68,
   "id": "b068056f-dea3-42ef-a985-3ec0c42286c5",
   "metadata": {},
   "outputs": [],
   "source": [
    "a = ['python','audio', 'video']"
   ]
  },
  {
   "cell_type": "code",
   "execution_count": 69,
   "id": "3f9d1856-bd4e-4413-8efe-4c90a3f19dd9",
   "metadata": {},
   "outputs": [],
   "source": [
    "def check_vowels(word):\n",
    "    vowels = 'aeiou'\n",
    "    count = 0\n",
    "    for vowel in vowels:\n",
    "        count += word.count(vowel)\n",
    "    if count > 3:\n",
    "        return True\n",
    "    else:\n",
    "        return False\n",
    "    "
   ]
  },
  {
   "cell_type": "code",
   "execution_count": 70,
   "id": "c1ed8233-b836-4085-959f-6304ddb18d55",
   "metadata": {},
   "outputs": [],
   "source": [
    "vowels_list = []\n",
    "vowels = [vowels_list.append(i) for i in a if check_vowels(i)]"
   ]
  },
  {
   "cell_type": "code",
   "execution_count": 71,
   "id": "bd2a9f16-7c9e-4756-b6a7-37a2657299a8",
   "metadata": {},
   "outputs": [
    {
     "name": "stdout",
     "output_type": "stream",
     "text": [
      "['audio']\n"
     ]
    }
   ],
   "source": [
    "print(vowels_list)"
   ]
  },
  {
   "cell_type": "markdown",
   "id": "9bfa0b28-c1f4-4a06-979e-23b76701d60d",
   "metadata": {},
   "source": [
    "1. Create a list of string inside the variable a\n",
    "2. Create function called check_vowels which take one arguments\n",
    "3. Inside the functions we create a variable vowels inside the vowels variable we define a string of vowels\n",
    "4. Create another variable count by default is set them as 0\n",
    "5. By using the for loop it will check and count the vowels inside the word\n",
    "6. By using conditional statement it will check it count of vowels is more than 3 hence return true else return false\n",
    "7. Create another empty list which is vowels_list\n",
    "8. Create a list comprehension inside that we are using for loop to iterate through all the elements inside the varibale a and by using check_vowels function if that word having more than 3 vowels than that number will be added to vowels_list\n",
    "9. Print the result"
   ]
  },
  {
   "cell_type": "markdown",
   "id": "e9ac9abb-0264-4671-b343-ec1698138e8b",
   "metadata": {},
   "source": [
    "39. Develop a program that calculates the sum of the digits of numbers from 1 to 1000 using list\n",
    "comprehension."
   ]
  },
  {
   "cell_type": "code",
   "execution_count": 92,
   "id": "057c9a18-e468-4a54-8b55-e1be62dd54ad",
   "metadata": {},
   "outputs": [],
   "source": [
    "def getsum(n):\n",
    "    \n",
    "    sum = 0\n",
    "    for digit in str(n): \n",
    "        sum += int(digit)      \n",
    "    return sum\n",
    "\n",
    "sum_digits = [getsum(i) for i in range(1,1000)]"
   ]
  },
  {
   "cell_type": "code",
   "execution_count": 93,
   "id": "ed808ffb-b568-47a9-b726-f0d7557719f5",
   "metadata": {},
   "outputs": [
    {
     "name": "stdout",
     "output_type": "stream",
     "text": [
      "[1, 2, 3, 4, 5, 6, 7, 8, 9, 1, 2, 3, 4, 5, 6, 7, 8, 9, 10, 2, 3, 4, 5, 6, 7, 8, 9, 10, 11, 3, 4, 5, 6, 7, 8, 9, 10, 11, 12, 4, 5, 6, 7, 8, 9, 10, 11, 12, 13, 5, 6, 7, 8, 9, 10, 11, 12, 13, 14, 6, 7, 8, 9, 10, 11, 12, 13, 14, 15, 7, 8, 9, 10, 11, 12, 13, 14, 15, 16, 8, 9, 10, 11, 12, 13, 14, 15, 16, 17, 9, 10, 11, 12, 13, 14, 15, 16, 17, 18, 1, 2, 3, 4, 5, 6, 7, 8, 9, 10, 2, 3, 4, 5, 6, 7, 8, 9, 10, 11, 3, 4, 5, 6, 7, 8, 9, 10, 11, 12, 4, 5, 6, 7, 8, 9, 10, 11, 12, 13, 5, 6, 7, 8, 9, 10, 11, 12, 13, 14, 6, 7, 8, 9, 10, 11, 12, 13, 14, 15, 7, 8, 9, 10, 11, 12, 13, 14, 15, 16, 8, 9, 10, 11, 12, 13, 14, 15, 16, 17, 9, 10, 11, 12, 13, 14, 15, 16, 17, 18, 10, 11, 12, 13, 14, 15, 16, 17, 18, 19, 2, 3, 4, 5, 6, 7, 8, 9, 10, 11, 3, 4, 5, 6, 7, 8, 9, 10, 11, 12, 4, 5, 6, 7, 8, 9, 10, 11, 12, 13, 5, 6, 7, 8, 9, 10, 11, 12, 13, 14, 6, 7, 8, 9, 10, 11, 12, 13, 14, 15, 7, 8, 9, 10, 11, 12, 13, 14, 15, 16, 8, 9, 10, 11, 12, 13, 14, 15, 16, 17, 9, 10, 11, 12, 13, 14, 15, 16, 17, 18, 10, 11, 12, 13, 14, 15, 16, 17, 18, 19, 11, 12, 13, 14, 15, 16, 17, 18, 19, 20, 3, 4, 5, 6, 7, 8, 9, 10, 11, 12, 4, 5, 6, 7, 8, 9, 10, 11, 12, 13, 5, 6, 7, 8, 9, 10, 11, 12, 13, 14, 6, 7, 8, 9, 10, 11, 12, 13, 14, 15, 7, 8, 9, 10, 11, 12, 13, 14, 15, 16, 8, 9, 10, 11, 12, 13, 14, 15, 16, 17, 9, 10, 11, 12, 13, 14, 15, 16, 17, 18, 10, 11, 12, 13, 14, 15, 16, 17, 18, 19, 11, 12, 13, 14, 15, 16, 17, 18, 19, 20, 12, 13, 14, 15, 16, 17, 18, 19, 20, 21, 4, 5, 6, 7, 8, 9, 10, 11, 12, 13, 5, 6, 7, 8, 9, 10, 11, 12, 13, 14, 6, 7, 8, 9, 10, 11, 12, 13, 14, 15, 7, 8, 9, 10, 11, 12, 13, 14, 15, 16, 8, 9, 10, 11, 12, 13, 14, 15, 16, 17, 9, 10, 11, 12, 13, 14, 15, 16, 17, 18, 10, 11, 12, 13, 14, 15, 16, 17, 18, 19, 11, 12, 13, 14, 15, 16, 17, 18, 19, 20, 12, 13, 14, 15, 16, 17, 18, 19, 20, 21, 13, 14, 15, 16, 17, 18, 19, 20, 21, 22, 5, 6, 7, 8, 9, 10, 11, 12, 13, 14, 6, 7, 8, 9, 10, 11, 12, 13, 14, 15, 7, 8, 9, 10, 11, 12, 13, 14, 15, 16, 8, 9, 10, 11, 12, 13, 14, 15, 16, 17, 9, 10, 11, 12, 13, 14, 15, 16, 17, 18, 10, 11, 12, 13, 14, 15, 16, 17, 18, 19, 11, 12, 13, 14, 15, 16, 17, 18, 19, 20, 12, 13, 14, 15, 16, 17, 18, 19, 20, 21, 13, 14, 15, 16, 17, 18, 19, 20, 21, 22, 14, 15, 16, 17, 18, 19, 20, 21, 22, 23, 6, 7, 8, 9, 10, 11, 12, 13, 14, 15, 7, 8, 9, 10, 11, 12, 13, 14, 15, 16, 8, 9, 10, 11, 12, 13, 14, 15, 16, 17, 9, 10, 11, 12, 13, 14, 15, 16, 17, 18, 10, 11, 12, 13, 14, 15, 16, 17, 18, 19, 11, 12, 13, 14, 15, 16, 17, 18, 19, 20, 12, 13, 14, 15, 16, 17, 18, 19, 20, 21, 13, 14, 15, 16, 17, 18, 19, 20, 21, 22, 14, 15, 16, 17, 18, 19, 20, 21, 22, 23, 15, 16, 17, 18, 19, 20, 21, 22, 23, 24, 7, 8, 9, 10, 11, 12, 13, 14, 15, 16, 8, 9, 10, 11, 12, 13, 14, 15, 16, 17, 9, 10, 11, 12, 13, 14, 15, 16, 17, 18, 10, 11, 12, 13, 14, 15, 16, 17, 18, 19, 11, 12, 13, 14, 15, 16, 17, 18, 19, 20, 12, 13, 14, 15, 16, 17, 18, 19, 20, 21, 13, 14, 15, 16, 17, 18, 19, 20, 21, 22, 14, 15, 16, 17, 18, 19, 20, 21, 22, 23, 15, 16, 17, 18, 19, 20, 21, 22, 23, 24, 16, 17, 18, 19, 20, 21, 22, 23, 24, 25, 8, 9, 10, 11, 12, 13, 14, 15, 16, 17, 9, 10, 11, 12, 13, 14, 15, 16, 17, 18, 10, 11, 12, 13, 14, 15, 16, 17, 18, 19, 11, 12, 13, 14, 15, 16, 17, 18, 19, 20, 12, 13, 14, 15, 16, 17, 18, 19, 20, 21, 13, 14, 15, 16, 17, 18, 19, 20, 21, 22, 14, 15, 16, 17, 18, 19, 20, 21, 22, 23, 15, 16, 17, 18, 19, 20, 21, 22, 23, 24, 16, 17, 18, 19, 20, 21, 22, 23, 24, 25, 17, 18, 19, 20, 21, 22, 23, 24, 25, 26, 9, 10, 11, 12, 13, 14, 15, 16, 17, 18, 10, 11, 12, 13, 14, 15, 16, 17, 18, 19, 11, 12, 13, 14, 15, 16, 17, 18, 19, 20, 12, 13, 14, 15, 16, 17, 18, 19, 20, 21, 13, 14, 15, 16, 17, 18, 19, 20, 21, 22, 14, 15, 16, 17, 18, 19, 20, 21, 22, 23, 15, 16, 17, 18, 19, 20, 21, 22, 23, 24, 16, 17, 18, 19, 20, 21, 22, 23, 24, 25, 17, 18, 19, 20, 21, 22, 23, 24, 25, 26, 18, 19, 20, 21, 22, 23, 24, 25, 26, 27]\n"
     ]
    }
   ],
   "source": [
    "print(sum_digits)"
   ]
  },
  {
   "cell_type": "markdown",
   "id": "0f43c5b8-4a7c-4837-bcee-76e72c90db5d",
   "metadata": {},
   "source": [
    "1. We define a function calle getsum inside this functions takes one argument\n",
    "2. we take the sum = 0 and using for loop we first convert that numbers into the string using str conversion \n",
    "3. Then we add that digits into the sum function by using int(digit) and then we are returning that sum\n",
    "4. By using list comprehension in the sum_digits inside the list comprehension we are using for loop in the range of 1, 1000 it will iterate through all the numbers from 1 to 999\n",
    "5. By using getsum function of i it will print all the sum of digits of all the numbers from 1 to 1000 into the sum_digits variable list'\n",
    "6. Print the result "
   ]
  },
  {
   "cell_type": "markdown",
   "id": "37419cbd-8630-458b-b2a0-9881a8e2561e",
   "metadata": {},
   "source": [
    "40. Write a program that generates a list of prime palindromic numbers using list comprehension."
   ]
  },
  {
   "cell_type": "code",
   "execution_count": 96,
   "id": "d99b69d1-5713-4d9b-b927-fbff6714ca79",
   "metadata": {},
   "outputs": [],
   "source": [
    "def is_prime(n):\n",
    "    if n < 1:\n",
    "        return False\n",
    "    for i in range (2,int(n**0.5) +1):\n",
    "        if n % i == 0:\n",
    "            return False\n",
    "    return True"
   ]
  },
  {
   "cell_type": "code",
   "execution_count": 123,
   "id": "eee2d9f8-dbb8-47e5-8c1c-ee092a369faf",
   "metadata": {},
   "outputs": [
    {
     "name": "stdout",
     "output_type": "stream",
     "text": [
      "['2', '3', '4', '5', '6', '7', '8', '9', '10', '11', '12', '13', '14', '15', '16', '17', '18', '19', '20', '21', '22', '23', '24', '25', '26', '27', '28', '29', '30', '31', '32', '33', '34', '35', '36', '37', '38', '39', '40', '41', '42', '43', '44', '45', '46', '47', '48', '49', '50', '51', '52', '53', '54', '55', '56', '57', '58', '59', '60', '61', '62', '63', '64', '65', '66', '67', '68', '69', '70', '71', '72', '73', '74', '75', '76', '77', '78', '79', '80', '81', '82', '83', '84', '85', '86', '87', '88', '89', '90', '91', '92', '93', '94', '95', '96', '97', '98', '99']\n"
     ]
    }
   ],
   "source": [
    "list_num = [str(i) for i in range(2, 100)]"
   ]
  },
  {
   "cell_type": "code",
   "execution_count": 124,
   "id": "ce8bef6a-b9c2-4c7d-b58d-57cce9b70e2f",
   "metadata": {},
   "outputs": [],
   "source": [
    "prime_palindromic_list = [int(list_num[i]) for i in range(len(list_num)) \n",
    "                    if is_prime(int(list_num[i])) if list_num[i] == list_num[i][::-1] ]"
   ]
  },
  {
   "cell_type": "code",
   "execution_count": 125,
   "id": "f18f2d90-8978-46f5-912c-3ef3c00c330e",
   "metadata": {},
   "outputs": [
    {
     "name": "stdout",
     "output_type": "stream",
     "text": [
      "[2, 3, 5, 7, 11]\n"
     ]
    }
   ],
   "source": [
    "print(palindromic_list)"
   ]
  },
  {
   "cell_type": "markdown",
   "id": "d77938aa-f049-4547-a75f-7234707f0fa2",
   "metadata": {},
   "source": [
    "1. Create a function called is_prime inside the is_prime function we takes one argument \n",
    "2. Create list_num variable inside that we have created list_comprehension in the range of 2 to 100 and that number will be added to list_num and converted into the strings \n",
    "3. Create another list comprehension inside the variable palindromice list by using for loop in range lis_num it will iterate through all the characters inside the list \n",
    "4. Then check if that number is palindrome or not if it is prime and also palindrome then that number will be added to the list.\n",
    "5. Print the result "
   ]
  },
  {
   "cell_type": "code",
   "execution_count": null,
   "id": "5593a2cb-8375-4dec-9493-ad39563d7d9a",
   "metadata": {},
   "outputs": [],
   "source": []
  }
 ],
 "metadata": {
  "kernelspec": {
   "display_name": "Python 3 (ipykernel)",
   "language": "python",
   "name": "python3"
  },
  "language_info": {
   "codemirror_mode": {
    "name": "ipython",
    "version": 3
   },
   "file_extension": ".py",
   "mimetype": "text/x-python",
   "name": "python",
   "nbconvert_exporter": "python",
   "pygments_lexer": "ipython3",
   "version": "3.10.8"
  }
 },
 "nbformat": 4,
 "nbformat_minor": 5
}
